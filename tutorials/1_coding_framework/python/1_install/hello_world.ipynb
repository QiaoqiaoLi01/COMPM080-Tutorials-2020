{
 "cells": [
  {
   "cell_type": "code",
   "execution_count": 5,
   "metadata": {},
   "outputs": [
    {
     "name": "stdout",
     "output_type": "stream",
     "text": [
      "found resources\n",
      "The autoreload extension is already loaded. To reload it, use:\n",
      "  %reload_ext autoreload\n"
     ]
    }
   ],
   "source": [
    "import sys,os\n",
    "\n",
    "RES_PATH = '../../../../resources'\n",
    "\n",
    "if not os.path.exists(RES_PATH):\n",
    "    print( 'cannot find /COMPM080-Tutorials-2020/resources, please update RES_PATH')\n",
    "    exit(1)\n",
    "else:\n",
    "    print('found resources')\n",
    "\n",
    "import pyglet\n",
    "pyglet.options['shadow_window'] = False\n",
    "\n",
    "import pyrender\n",
    "import numpy as np\n",
    "import trimesh\n",
    "\n",
    "import matplotlib\n",
    "import matplotlib.pyplot as plt\n",
    "\n",
    "%load_ext autoreload\n",
    "%autoreload 2"
   ]
  },
  {
   "cell_type": "markdown",
   "metadata": {},
   "source": [
    "## Load a mesh "
   ]
  },
  {
   "cell_type": "code",
   "execution_count": 6,
   "metadata": {},
   "outputs": [],
   "source": [
    "mesh_fp = os.path.join(RES_PATH,'torus.obj')\n",
    "assert os.path.exists(mesh_fp), 'cannot found:'+mesh_fp \n",
    "mm = trimesh.load(mesh_fp) \n"
   ]
  },
  {
   "cell_type": "markdown",
   "metadata": {},
   "source": [
    "## Create a scene object and add a mesh"
   ]
  },
  {
   "cell_type": "code",
   "execution_count": 7,
   "metadata": {},
   "outputs": [
    {
     "data": {
      "text/plain": [
       "<pyrender.node.Node at 0x193e2cc9940>"
      ]
     },
     "execution_count": 7,
     "metadata": {},
     "output_type": "execute_result"
    }
   ],
   "source": [
    "scene = pyrender.Scene(ambient_light=0.5*np.array([1.0, 1.0, 1.0, 1.0]))\n",
    "\n",
    "mesh = pyrender.Mesh.from_trimesh(mm)\n",
    "scene.add(mesh)"
   ]
  },
  {
   "cell_type": "markdown",
   "metadata": {},
   "source": [
    "## Launch viewer\n",
    "wrap viewer object in order to relase context object after quit GUI."
   ]
  },
  {
   "cell_type": "code",
   "execution_count": 8,
   "metadata": {},
   "outputs": [],
   "source": [
    "def run():\n",
    "    v=pyrender.Viewer(scene, use_raymond_lighting=True)\n",
    "    \n",
    "run()"
   ]
  },
  {
   "cell_type": "markdown",
   "metadata": {},
   "source": [
    "## Create a customized OpenGL camera"
   ]
  },
  {
   "cell_type": "code",
   "execution_count": 9,
   "metadata": {},
   "outputs": [],
   "source": [
    "camera = pyrender.PerspectiveCamera(yfov=np.pi / 3.0, aspectRatio=1.0) \n",
    "camera_pose = np.eye(4)\n",
    "camera_pose[2,2]=-1\n",
    "camera_pose[:3,3] = np.array((0.0, 0.0,-10))"
   ]
  },
  {
   "cell_type": "markdown",
   "metadata": {},
   "source": [
    "## Add camera"
   ]
  },
  {
   "cell_type": "code",
   "execution_count": 10,
   "metadata": {},
   "outputs": [
    {
     "data": {
      "text/plain": [
       "<pyrender.node.Node at 0x193d973bf98>"
      ]
     },
     "execution_count": 10,
     "metadata": {},
     "output_type": "execute_result"
    }
   ],
   "source": [
    "scene.add(camera, pose=camera_pose)"
   ]
  },
  {
   "cell_type": "markdown",
   "metadata": {},
   "source": [
    "## Launch OffscreenRenderer"
   ]
  },
  {
   "cell_type": "code",
   "execution_count": 11,
   "metadata": {},
   "outputs": [
    {
     "data": {
      "image/png": "[encoded data removed]",
      "text/plain": [
       "<Figure size 432x288 with 1 Axes>"
      ]
     },
     "metadata": {
      "needs_background": "light"
     },
     "output_type": "display_data"
    }
   ],
   "source": [
    "def run_off():   \n",
    "    r = pyrender.OffscreenRenderer(viewport_width=640*2, viewport_height=480*2)\n",
    "    color, depth = r.render(scene)\n",
    "    r.delete()\n",
    "\n",
    "    plt.figure()\n",
    "    plt.imshow(color) \n",
    "\n",
    "run_off()"
   ]
  }
 ],
 "metadata": {
  "kernelspec": {
   "display_name": "Python 3",
   "language": "python",
   "name": "python3"
  },
  "language_info": {
   "codemirror_mode": {
    "name": "ipython",
    "version": 3
   },
   "file_extension": ".py",
   "mimetype": "text/x-python",
   "name": "python",
   "nbconvert_exporter": "python",
   "pygments_lexer": "ipython3",
   "version": "3.6.9"
  }
 },
 "nbformat": 4,
 "nbformat_minor": 2
}
